{
 "cells": [
  {
   "cell_type": "markdown",
   "metadata": {},
   "source": [
    "## Reading FWHM PSF & Determining the PSF size"
   ]
  },
  {
   "cell_type": "markdown",
   "metadata": {},
   "source": [
    "### Packages & Directories"
   ]
  },
  {
   "cell_type": "code",
   "execution_count": 1,
   "metadata": {},
   "outputs": [],
   "source": [
    "import numpy as np\n",
    "import glob, os, copy\n",
    "import pandas as pd\n",
    "from pathlib import Path\n",
    "from matplotlib import pyplot as plt"
   ]
  },
  {
   "cell_type": "code",
   "execution_count": 2,
   "metadata": {},
   "outputs": [],
   "source": [
    "%matplotlib widget\n",
    "# %matplotlib notebook"
   ]
  },
  {
   "cell_type": "code",
   "execution_count": 3,
   "metadata": {},
   "outputs": [],
   "source": [
    "dir_Obj = str(Path(\"./Object\").absolute())+\"/\"\n",
    "path_list_obj = sorted(glob.glob(dir_Obj+\"*/2*\"))"
   ]
  },
  {
   "cell_type": "code",
   "execution_count": 4,
   "metadata": {},
   "outputs": [
    {
     "data": {
      "text/plain": [
       "['/data/jlee/DATA/Subaru/NGC6946/Object/N-A-L656/2013-12-02',\n",
       " '/data/jlee/DATA/Subaru/NGC6946/Object/W-C-IC/2008-08-30',\n",
       " '/data/jlee/DATA/Subaru/NGC6946/Object/W-C-IC/2013-12-04',\n",
       " '/data/jlee/DATA/Subaru/NGC6946/Object/W-C-IC/2014-04-29',\n",
       " '/data/jlee/DATA/Subaru/NGC6946/Object/W-C-RC/2009-08-21',\n",
       " '/data/jlee/DATA/Subaru/NGC6946/Object/W-C-RC/2013-12-03',\n",
       " '/data/jlee/DATA/Subaru/NGC6946/Object/W-J-B/2008-09-03',\n",
       " '/data/jlee/DATA/Subaru/NGC6946/Object/W-J-B/2009-08-21',\n",
       " '/data/jlee/DATA/Subaru/NGC6946/Object/W-J-B/2013-12-04',\n",
       " '/data/jlee/DATA/Subaru/NGC6946/Object/W-J-B/2014-04-29']"
      ]
     },
     "execution_count": 4,
     "metadata": {},
     "output_type": "execute_result"
    }
   ],
   "source": [
    "path_list_obj"
   ]
  },
  {
   "cell_type": "code",
   "execution_count": 5,
   "metadata": {},
   "outputs": [
    {
     "data": {
      "text/plain": [
       "['N-A-L656',\n",
       " 'W-C-IC',\n",
       " 'W-C-IC',\n",
       " 'W-C-IC',\n",
       " 'W-C-RC',\n",
       " 'W-C-RC',\n",
       " 'W-J-B',\n",
       " 'W-J-B',\n",
       " 'W-J-B',\n",
       " 'W-J-B']"
      ]
     },
     "execution_count": 5,
     "metadata": {},
     "output_type": "execute_result"
    }
   ],
   "source": [
    "filt = [s.split(\"/\")[-2] for s in path_list_obj]\n",
    "filt"
   ]
  },
  {
   "cell_type": "code",
   "execution_count": 6,
   "metadata": {},
   "outputs": [],
   "source": [
    "if (glob.glob(\"PSFs\") == []):\n",
    "    os.system(\"mkdir PSFs\")"
   ]
  },
  {
   "cell_type": "markdown",
   "metadata": {},
   "source": [
    "### Reading PSF measurement"
   ]
  },
  {
   "cell_type": "code",
   "execution_count": 7,
   "metadata": {},
   "outputs": [],
   "source": [
    "def load_fwhmpsf(directory):\n",
    "    # Reading PSF log files\n",
    "    path = str(Path(directory).absolute())\n",
    "    band = path.split(\"/\")[-2]\n",
    "    date = path.split(\"/\")[-1]\n",
    "    with open(path+\"/fwhmpsf_batch.log\", \"r\") as f:\n",
    "        ll = f.readlines()\n",
    "    eff_lines = pd.Series(ll).str.startswith('gfTo_')\n",
    "    n_line = np.sum(eff_lines)\n",
    "    fwhmpsf = np.genfromtxt(path+\"/fwhmpsf_batch.log\", dtype=None, encoding='ascii',\n",
    "                            skip_header=4, max_rows=n_line,\n",
    "                            names=(\"image\", \"mean\", \"bin1\", \"bin2\", \"bin3\", \"bin4\", \"bin5\"))\n",
    "\n",
    "    # Counting stars\n",
    "    x_bin = np.arange(fwhmpsf['mean'].min()-0.2, fwhmpsf['mean'].max()+0.2+0.1, step=0.1)\n",
    "    N_star = np.zeros_like(x_bin).astype('int')\n",
    "    for i in np.arange(n_line):\n",
    "        for j in np.arange(5):\n",
    "            fwhm_bin = fwhmpsf['mean'][i]-0.2+0.1*j\n",
    "            idx = np.abs(x_bin-fwhm_bin).argmin()\n",
    "            N_star[idx] += fwhmpsf[f'bin{j+1:d}'][i]\n",
    "\n",
    "    # Statistics\n",
    "    avg = np.average(x_bin, weights=N_star)\n",
    "    _min, med, Q3, _max = np.percentile(np.repeat(x_bin, N_star), [0, 50, 75, 100])\n",
    "\n",
    "    # Plotting\n",
    "    fig, ax = plt.subplots(1, 1, figsize=(8, 4))\n",
    "    ax.step(x_bin, N_star, where='mid', linewidth=2.0)\n",
    "    ax.set_ylim([0, 1.2*np.max(N_star)])\n",
    "    ax.axvline(Q3, 0, 1.2*np.max(N_star), linestyle='--', linewidth=1.75, color='red', alpha=0.7)\n",
    "    ax.tick_params(axis='both', labelsize=12.0)\n",
    "    ax.set_xlabel(\"FWHM [pix]\", fontsize=12.0)\n",
    "    ax.set_ylabel(r\"$N$\", fontsize=12.0)\n",
    "    ax.text(0.97, 0.94, band, fontsize=12.0, fontweight='bold',\n",
    "            ha=\"right\", va=\"top\", transform=ax.transAxes)\n",
    "    ax.text(0.97, 0.87, date, fontsize=12.0, fontweight='bold',\n",
    "            ha=\"right\", va=\"top\", transform=ax.transAxes)\n",
    "    ax.text(0.97, 0.77, f\"{_min:.2f}-{_max:.2f} pix\", fontsize=12.0, color='gray',\n",
    "            ha=\"right\", va=\"top\", transform=ax.transAxes)\n",
    "    ax.text(0.97, 0.70, f\"Mean {avg:.2f} pix\", fontsize=12.0, color='gray',\n",
    "            ha=\"right\", va=\"top\", transform=ax.transAxes)\n",
    "    ax.text(0.97, 0.63, f\"Median {med:.2f} pix\", fontsize=12.0, color='gray',\n",
    "            ha=\"right\", va=\"top\", transform=ax.transAxes)\n",
    "    ax.text(0.97, 0.56, f\"Q3 {Q3:.2f} pix\", fontsize=12.0, color='red',\n",
    "            ha=\"right\", va=\"top\", transform=ax.transAxes)\n",
    "    plt.tight_layout()\n",
    "    plt.savefig(\"PSFs/\"+band+\"(\"+date+\").png\", dpi=300)\n",
    "    \n",
    "    return {'obs':[band, date], 'data':[x_bin, N_star], 'stat':[_min, _max, avg, med, Q3]}"
   ]
  },
  {
   "cell_type": "code",
   "execution_count": 8,
   "metadata": {
    "scrolled": true,
    "tags": []
   },
   "outputs": [
    {
     "data": {
      "application/vnd.jupyter.widget-view+json": {
       "model_id": "33cd3e574826435a915db4fe45e7a1fd",
       "version_major": 2,
       "version_minor": 0
      },
      "text/plain": [
       "Canvas(toolbar=Toolbar(toolitems=[('Home', 'Reset original view', 'home', 'home'), ('Back', 'Back to previous …"
      ]
     },
     "metadata": {},
     "output_type": "display_data"
    },
    {
     "data": {
      "application/vnd.jupyter.widget-view+json": {
       "model_id": "27c26f8faf95490691b78b5dcecde465",
       "version_major": 2,
       "version_minor": 0
      },
      "text/plain": [
       "Canvas(toolbar=Toolbar(toolitems=[('Home', 'Reset original view', 'home', 'home'), ('Back', 'Back to previous …"
      ]
     },
     "metadata": {},
     "output_type": "display_data"
    },
    {
     "data": {
      "application/vnd.jupyter.widget-view+json": {
       "model_id": "a9821700aa1949c09f7d65299ad18a89",
       "version_major": 2,
       "version_minor": 0
      },
      "text/plain": [
       "Canvas(toolbar=Toolbar(toolitems=[('Home', 'Reset original view', 'home', 'home'), ('Back', 'Back to previous …"
      ]
     },
     "metadata": {},
     "output_type": "display_data"
    },
    {
     "data": {
      "application/vnd.jupyter.widget-view+json": {
       "model_id": "1236bf5f37544b6daae037c8a0bfe337",
       "version_major": 2,
       "version_minor": 0
      },
      "text/plain": [
       "Canvas(toolbar=Toolbar(toolitems=[('Home', 'Reset original view', 'home', 'home'), ('Back', 'Back to previous …"
      ]
     },
     "metadata": {},
     "output_type": "display_data"
    },
    {
     "data": {
      "application/vnd.jupyter.widget-view+json": {
       "model_id": "f4664172ea1c445b848d1a548ff8b8a7",
       "version_major": 2,
       "version_minor": 0
      },
      "text/plain": [
       "Canvas(toolbar=Toolbar(toolitems=[('Home', 'Reset original view', 'home', 'home'), ('Back', 'Back to previous …"
      ]
     },
     "metadata": {},
     "output_type": "display_data"
    },
    {
     "data": {
      "application/vnd.jupyter.widget-view+json": {
       "model_id": "79d2791a17e9402d97c8923f483a2ec9",
       "version_major": 2,
       "version_minor": 0
      },
      "text/plain": [
       "Canvas(toolbar=Toolbar(toolitems=[('Home', 'Reset original view', 'home', 'home'), ('Back', 'Back to previous …"
      ]
     },
     "metadata": {},
     "output_type": "display_data"
    },
    {
     "data": {
      "application/vnd.jupyter.widget-view+json": {
       "model_id": "df364856df7540159fc48557520ef5ed",
       "version_major": 2,
       "version_minor": 0
      },
      "text/plain": [
       "Canvas(toolbar=Toolbar(toolitems=[('Home', 'Reset original view', 'home', 'home'), ('Back', 'Back to previous …"
      ]
     },
     "metadata": {},
     "output_type": "display_data"
    },
    {
     "data": {
      "application/vnd.jupyter.widget-view+json": {
       "model_id": "cf67b0de9a8e4efda5c03b521feeaaf6",
       "version_major": 2,
       "version_minor": 0
      },
      "text/plain": [
       "Canvas(toolbar=Toolbar(toolitems=[('Home', 'Reset original view', 'home', 'home'), ('Back', 'Back to previous …"
      ]
     },
     "metadata": {},
     "output_type": "display_data"
    },
    {
     "data": {
      "application/vnd.jupyter.widget-view+json": {
       "model_id": "15b13cc69d47462c8b35afb9e05b0133",
       "version_major": 2,
       "version_minor": 0
      },
      "text/plain": [
       "Canvas(toolbar=Toolbar(toolitems=[('Home', 'Reset original view', 'home', 'home'), ('Back', 'Back to previous …"
      ]
     },
     "metadata": {},
     "output_type": "display_data"
    },
    {
     "data": {
      "application/vnd.jupyter.widget-view+json": {
       "model_id": "e74e98fd89ab484bbcf22f8fd00350e4",
       "version_major": 2,
       "version_minor": 0
      },
      "text/plain": [
       "Canvas(toolbar=Toolbar(toolitems=[('Home', 'Reset original view', 'home', 'home'), ('Back', 'Back to previous …"
      ]
     },
     "metadata": {},
     "output_type": "display_data"
    }
   ],
   "source": [
    "x_range = np.arange(2.0, 7.1, 0.1)\n",
    "\n",
    "for i, di in enumerate(path_list_obj):\n",
    "    dic = load_fwhmpsf(di)\n",
    "    band = di.split(\"/\")[-2]\n",
    "    band_abbr = band.split(\"-\")[-1]\n",
    "    \n",
    "    if ((i == 0) | (band != filt[i-1])):\n",
    "        dic_flt = {'band': band, 'date': [dic['obs'][1]], 'bin':x_range}\n",
    "        y_range = np.zeros_like(x_range).astype('int')\n",
    "    else:\n",
    "        dic_flt['date'].append(dic['obs'][1])\n",
    "    \n",
    "    x_bin, N_star = dic['data']\n",
    "    for j in np.arange(len(x_bin)):\n",
    "        idx = np.int(np.round(10*x_bin[j]))-20\n",
    "        y_range[idx] += N_star[j]\n",
    "\n",
    "    if (i == len(path_list_obj)-1):\n",
    "        avg = np.average(x_range, weights=y_range)\n",
    "        _min, med, Q3, _max = np.percentile(np.repeat(x_range, y_range), [0, 50, 75, 100])\n",
    "        dic_flt['count'] = y_range\n",
    "        dic_flt['stat'] = [_min, _max, avg, med, Q3]\n",
    "        exec(\"dic_\"+band_abbr+\" = dic_flt\")\n",
    "    elif (band != filt[i+1]):\n",
    "        avg = np.average(x_range, weights=y_range)\n",
    "        _min, med, Q3, _max = np.percentile(np.repeat(x_range, y_range), [0, 50, 75, 100])\n",
    "        dic_flt['count'] = y_range\n",
    "        dic_flt['stat'] = [_min, _max, avg, med, Q3]\n",
    "        exec(\"dic_\"+band_abbr+\" = dic_flt\")"
   ]
  },
  {
   "cell_type": "markdown",
   "metadata": {},
   "source": [
    "### Collecting Data by the Same Bands"
   ]
  },
  {
   "cell_type": "code",
   "execution_count": 9,
   "metadata": {},
   "outputs": [
    {
     "data": {
      "text/plain": [
       "array(['N-A-L656', 'W-C-IC', 'W-C-RC', 'W-J-B'], dtype='<U8')"
      ]
     },
     "execution_count": 9,
     "metadata": {},
     "output_type": "execute_result"
    }
   ],
   "source": [
    "uniq_filt = np.unique(filt)\n",
    "uniq_filt"
   ]
  },
  {
   "cell_type": "code",
   "execution_count": 10,
   "metadata": {},
   "outputs": [],
   "source": [
    "current_dir = os.getcwd()\n",
    "for f in uniq_filt:\n",
    "    if (glob.glob(dir_Obj+f+\"/Collect\") == []):\n",
    "        os.system(\"mkdir \"+dir_Obj+f+\"/Collect\")\n",
    "    os.chdir(dir_Obj+f+\"/Collect\")\n",
    "    os.system(\"rm -rfv *.* tmp*\")\n",
    "    os.system(\"ln -s \"+dir_Obj+f+\"/*/gfTo_RH*.fits .\")\n",
    "    os.chdir(current_dir)"
   ]
  },
  {
   "cell_type": "code",
   "execution_count": 11,
   "metadata": {},
   "outputs": [
    {
     "data": {
      "application/vnd.jupyter.widget-view+json": {
       "model_id": "1cb5ccb11a1b43d891a7cdc0a6f61719",
       "version_major": 2,
       "version_minor": 0
      },
      "text/plain": [
       "Canvas(toolbar=Toolbar(toolitems=[('Home', 'Reset original view', 'home', 'home'), ('Back', 'Back to previous …"
      ]
     },
     "metadata": {},
     "output_type": "display_data"
    },
    {
     "data": {
      "application/vnd.jupyter.widget-view+json": {
       "model_id": "056acac51c3a4c4abace72adc7d42386",
       "version_major": 2,
       "version_minor": 0
      },
      "text/plain": [
       "Canvas(toolbar=Toolbar(toolitems=[('Home', 'Reset original view', 'home', 'home'), ('Back', 'Back to previous …"
      ]
     },
     "metadata": {},
     "output_type": "display_data"
    },
    {
     "data": {
      "application/vnd.jupyter.widget-view+json": {
       "model_id": "78c4e5cf3dad49dcb3b7ef6405b43797",
       "version_major": 2,
       "version_minor": 0
      },
      "text/plain": [
       "Canvas(toolbar=Toolbar(toolitems=[('Home', 'Reset original view', 'home', 'home'), ('Back', 'Back to previous …"
      ]
     },
     "metadata": {},
     "output_type": "display_data"
    },
    {
     "data": {
      "application/vnd.jupyter.widget-view+json": {
       "model_id": "b0b69f02040a492da9155b988e9ba74d",
       "version_major": 2,
       "version_minor": 0
      },
      "text/plain": [
       "Canvas(toolbar=Toolbar(toolitems=[('Home', 'Reset original view', 'home', 'home'), ('Back', 'Back to previous …"
      ]
     },
     "metadata": {},
     "output_type": "display_data"
    }
   ],
   "source": [
    "for f in uniq_filt:\n",
    "    filt_abbr = f.split(\"-\")[-1]\n",
    "    exec(\"dic_flt = dic_\"+filt_abbr)\n",
    "    x_bin, N_star = dic_flt['bin'], dic_flt['count']\n",
    "    _min, _max, avg, med, Q3 = dic_flt['stat']\n",
    "    \n",
    "    # Plotting\n",
    "    fig, ax = plt.subplots(1, 1, figsize=(8, 4))\n",
    "    ax.step(x_bin, N_star, where='mid', linewidth=2.0)\n",
    "    ax.set_xlim([_min-0.5, _max+0.5])\n",
    "    ax.set_ylim([0, 1.2*np.max(N_star)])\n",
    "    ax.axvline(Q3, 0, 1.2*np.max(N_star), linestyle='--', linewidth=1.75, color='red', alpha=0.7)\n",
    "    ax.tick_params(axis='both', labelsize=12.0)\n",
    "    ax.set_xlabel(\"FWHM [pix]\", fontsize=12.0)\n",
    "    ax.set_ylabel(r\"$N$\", fontsize=12.0)\n",
    "    ax.text(0.97, 0.94, f, fontsize=12.0, fontweight='bold',\n",
    "            ha=\"right\", va=\"top\", transform=ax.transAxes)\n",
    "    ax.text(0.97, 0.77, f\"{_min:.2f}-{_max:.2f} pix\", fontsize=12.0, color='gray',\n",
    "            ha=\"right\", va=\"top\", transform=ax.transAxes)\n",
    "    ax.text(0.97, 0.70, f\"Mean {avg:.2f} pix\", fontsize=12.0, color='gray',\n",
    "            ha=\"right\", va=\"top\", transform=ax.transAxes)\n",
    "    ax.text(0.97, 0.63, f\"Median {med:.2f} pix\", fontsize=12.0, color='gray',\n",
    "            ha=\"right\", va=\"top\", transform=ax.transAxes)\n",
    "    ax.text(0.97, 0.56, f\"Q3 {Q3:.2f} pix\", fontsize=12.0, color='red',\n",
    "            ha=\"right\", va=\"top\", transform=ax.transAxes)\n",
    "    plt.tight_layout()\n",
    "    plt.savefig(\"PSFs/FWHMPSF_\"+f+\".png\", dpi=300)"
   ]
  },
  {
   "cell_type": "markdown",
   "metadata": {},
   "source": [
    "### Writing the SDFRED2 scripts"
   ]
  },
  {
   "cell_type": "code",
   "execution_count": 12,
   "metadata": {},
   "outputs": [],
   "source": [
    "# Writing the second script of the reduction\n",
    "text1_red2_obj = \"# Step 7 : Equalize the PSF size\\n\"\n",
    "text1_red2_obj += \"ls -1 gfTo_RH*.fits > psfmatch_batch.lis\\n\"\n",
    "\n",
    "text2_red2_obj = \"# Step 8 : Subtract the Sky Background\\n\"\n",
    "text2_red2_obj += \"ls -1 pgfTo_RH*.fits > skysb.lis\\n\"\n",
    "text2_red2_obj += \"skysb.csh skysb.lis 64\\n\\n\"\n",
    "text2_red2_obj += \"# Step 9 : Mask the AG Shade\\n\"\n",
    "text2_red2_obj += \"ls -1 spgfTo_RH*.fits > mask_AGX.lis\\n\"\n",
    "text2_red2_obj += \"mask_AGX.csh mask_AGX.lis\\n\\n\"\n",
    "text2_red2_obj += \"# Removing intermediate files\\n\"\n",
    "text2_red2_obj += \"rm -rfv To*.fits fTo*.fits gfTo*.fits pgfTo*.fits spgfTo*.fits tmp*\\n\\n\"\n",
    "\n",
    "with open(\"red2_obj.sh\", \"w\") as f:\n",
    "    f.write(text1_red2_obj)\n",
    "\n",
    "for i, flt in enumerate(uniq_filt):\n",
    "    filt_abbr = flt.split(\"-\")[-1]\n",
    "    exec(\"dic_flt = dic_\"+filt_abbr)\n",
    "    \n",
    "    di = dir_Obj+flt+\"/Collect\"\n",
    "    os.system(\"cp -rpv red2_obj.sh \"+di+\"/red2.sh\")\n",
    "    with open(di+\"/red2.sh\", \"a\") as f:\n",
    "        f.write(f\"psfmatch_batch.csh psfmatch_batch.lis 50 2000 40000 2.0 7.0 {dic_flt['stat'][-1]:.1f}\\n\\n\")\n",
    "        f.write(text2_red2_obj)"
   ]
  },
  {
   "cell_type": "code",
   "execution_count": 13,
   "metadata": {},
   "outputs": [],
   "source": [
    "# # Writing the second script of the reduction\n",
    "# text_red3_obj = \"# Step 11 : Estimate Alignment and Scaling\\n\"\n",
    "# text_red3_obj += \"ls -1 AspgfTo_RH*.fits > makemos.lis\\n\"\n",
    "# text_red3_obj += \"makemos.csh makemos.lis 5 20 500 10000 10 all.mos\\n\\n\"\n",
    "# text_red3_obj += \"# Step 12 : Combine\\n\"\n",
    "# text_red3_obj += \"imcio2a -dist_clip -nline=20 -dtype=FITSFLOAT -pixignr=-32768 all.mos comb.fits\\n\\n\"\n",
    "# text_red3_obj += \"# Removing intermediate files\\n\"\n",
    "# text_red3_obj += \"rm -rfv To*.fits fTo*.fits gfTo*.fits pgfTo*.fits spgfTo*.fits  tmp*\\n\\n\"\n",
    "\n",
    "# with open(\"red3_obj.sh\", \"w\") as f:\n",
    "#     f.write(text_red3_obj)\n",
    "\n",
    "# for i, di in enumerate(path_list_obj):\n",
    "#     os.system(\"cp -rpv red3_obj.sh \"+di+\"/red3.sh\")"
   ]
  },
  {
   "cell_type": "code",
   "execution_count": null,
   "metadata": {},
   "outputs": [],
   "source": []
  }
 ],
 "metadata": {
  "kernelspec": {
   "display_name": "Python 3",
   "language": "python",
   "name": "python3"
  },
  "language_info": {
   "codemirror_mode": {
    "name": "ipython",
    "version": 3
   },
   "file_extension": ".py",
   "mimetype": "text/x-python",
   "name": "python",
   "nbconvert_exporter": "python",
   "pygments_lexer": "ipython3",
   "version": "3.7.9"
  }
 },
 "nbformat": 4,
 "nbformat_minor": 4
}
atio;\n",
       "    var y0 = (fig.canvas.height - msg['y0']) / mpl.ratio;\n",
       "    var x1 = msg['x1'] / mpl.ratio;\n",
       "    var y1 = (fig.canvas.height - msg['y1']) / mpl.ratio;\n",
       "    x0 = Math.floor(x0) + 0.5;\n",
       "    y0 = Math.floor(y0) + 0.5;\n",
       "    x1 = Math.floor(x1) + 0.5;\n",
       "    y1 = Math.floor(y1) + 0.5;\n",
       "    var min_x = Math.min(x0, x1);\n",
       "    var min_y = Math.min(y0, y1);\n",
       "    var width = Math.abs(x1 - x0);\n",
       "    var height = Math.abs(y1 - y0);\n",
       "\n",
       "    fig.rubberband_context.clearRect(\n",
       "        0, 0, fig.canvas.width / mpl.ratio, fig.canvas.height / mpl.ratio);\n",
       "\n",
       "    fig.rubberband_context.strokeRect(min_x, min_y, width, height);\n",
       "}\n",
       "\n",
       "mpl.figure.prototype.handle_figure_label = function(fig, msg) {\n",
       "    // Updates the figure title.\n",
       "    fig.header.textContent = msg['label'];\n",
       "}\n",
       "\n",
       "mpl.figure.prototype.handle_cursor = function(fig, msg) {\n",
       "    var cursor = msg['cursor'];\n",
       "    switch(cursor)\n",
       "    {\n",
       "    case 0:\n",
       "        cursor = 'pointer';\n",
       "        break;\n",
       "    case 1:\n",
       "        cursor = 'default';\n",
       "        break;\n",
       "    case 2:\n",
       "        cursor = 'crosshair';\n",
       "        break;\n",
       "    case 3:\n",
       "        cursor = 'move';\n",
       "        break;\n",
       "    }\n",
       "    fig.rubberband_canvas.style.cursor = cursor;\n",
       "}\n",
       "\n",
       "mpl.figure.prototype.handle_message = function(fig, msg) {\n",
       "    fig.message.textContent = msg['message'];\n",
       "}\n",
       "\n",
       "mpl.figure.prototype.handle_draw = function(fig, msg) {\n",
       "    // Request the server to send over a new figure.\n",
       "    fig.send_draw_message();\n",
       "}\n",
       "\n",
       "mpl.figure.prototype.handle_image_mode = function(fig, msg) {\n",
       "    fig.image_mode = msg['mode'];\n",
       "}\n",
       "\n",
       "mpl.figure.prototype.updated_canvas_event = function() {\n",
       "    // Called whenever the canvas gets updated.\n",
       "    this.send_message(\"ack\", {});\n",
       "}\n",
       "\n",
       "// A function to construct a web socket function for onmessage handling.\n",
       "// Called in the figure constructor.\n",
       "mpl.figure.prototype._make_on_message_function = function(fig) {\n",
       "    return function socket_on_message(evt) {\n",
       "        if (evt.data instanceof Blob) {\n",
       "            /* FIXME: We get \"Resource interpreted as Image but\n",
       "             * transferred with MIME type text/plain:\" errors on\n",
       "             * Chrome.  But how to set the MIME type?  It doesn't seem\n",
       "             * to be part of the websocket stream */\n",
       "            evt.data.type = \"image/png\";\n",
       "\n",
       "            /* Free the memory for the previous frames */\n",
       "            if (fig.imageObj.src) {\n",
       "                (window.URL || window.webkitURL).revokeObjectURL(\n",
       "                    fig.imageObj.src);\n",
       "            }\n",
       "\n",
       "            fig.imageObj.src = (window.URL || window.webkitURL).createObjectURL(\n",
       "                evt.data);\n",
       "            fig.updated_canvas_event();\n",
       "            fig.waiting = false;\n",
       "            return;\n",
       "        }\n",
       "        else if (typeof evt.data === 'string' && evt.data.slice(0, 21) == \"data:image/png;base64\") {\n",
       "            fig.imageObj.src = evt.data;\n",
       "            fig.updated_canvas_event();\n",
       "            fig.waiting = false;\n",
       "            return;\n",
       "        }\n",
       "\n",
       "        var msg = JSON.parse(evt.data);\n",
       "        var msg_type = msg['type'];\n",
       "\n",
       "        // Call the  \"handle_{type}\" callback, which takes\n",
       "        // the figure and JSON message as its only arguments.\n",
       "        try {\n",
       "            var callback = fig[\"handle_\" + msg_type];\n",
       "        } catch (e) {\n",
       "            console.log(\"No handler for the '\" + msg_type + \"' message type: \", msg);\n",
       "            return;\n",
       "        }\n",
       "\n",
       "        if (callback) {\n",
       "            try {\n",
       "                // console.log(\"Handling '\" + msg_type + \"' message: \", msg);\n",
       "                callback(fig, msg);\n",
       "            } catch (e) {\n",
       "                console.log(\"Exception inside the 'handler_\" + msg_type + \"' callback:\", e, e.stack, msg);\n",
       "            }\n",
       "        }\n",
       "    };\n",
       "}\n",
       "\n",
       "// from http://stackoverflow.com/questions/1114465/getting-mouse-location-in-canvas\n",
       "mpl.findpos = function(e) {\n",
       "    //this section is from http://www.quirksmode.org/js/events_properties.html\n",
       "    var targ;\n",
       "    if (!e)\n",
       "        e = window.event;\n",
       "    if (e.target)\n",
       "        targ = e.target;\n",
       "    else if (e.srcElement)\n",
       "        targ = e.srcElement;\n",
       "    if (targ.nodeType == 3) // defeat Safari bug\n",
       "        targ = targ.parentNode;\n",
       "\n",
       "    // jQuery normalizes the pageX and pageY\n",
       "    // pageX,Y are the mouse positions relative to the document\n",
       "    // offset() returns the position of the element relative to the document\n",
       "    var x = e.pageX - $(targ).offset().left;\n",
       "    var y = e.pageY - $(targ).offset().top;\n",
       "\n",
       "    return {\"x\": x, \"y\": y};\n",
       "};\n",
       "\n",
       "/*\n",
       " * return a copy of an object with only non-object keys\n",
       " * we need this to avoid circular references\n",
       " * http://stackoverflow.com/a/24161582/3208463\n",
       " */\n",
       "function simpleKeys (original) {\n",
       "  return Object.keys(original).reduce(function (obj, key) {\n",
       "    if (typeof original[key] !== 'object')\n",
       "        obj[key] = original[key]\n",
       "    return obj;\n",
       "  }, {});\n",
       "}\n",
       "\n",
       "mpl.figure.prototype.mouse_event = function(event, name) {\n",
       "    var canvas_pos = mpl.findpos(event)\n",
       "\n",
       "    if (name === 'button_press')\n",
       "    {\n",
       "        this.canvas.focus();\n",
       "        this.canvas_div.focus();\n",
       "    }\n",
       "\n",
       "    var x = canvas_pos.x * mpl.ratio;\n",
       "    var y = canvas_pos.y * mpl.ratio;\n",
       "\n",
       "    this.send_message(name, {x: x, y: y, button: event.button,\n",
       "                             step: event.step,\n",
       "                             guiEvent: simpleKeys(event)});\n",
       "\n",
       "    /* This prevents the web browser from automatically changing to\n",
       "     * the text insertion cursor when the button is pressed.  We want\n",
       "     * to control all of the cursor setting manually through the\n",
       "     * 'cursor' event from matplotlib */\n",
       "    event.preventDefault();\n",
       "    return false;\n",
       "}\n",
       "\n",
       "mpl.figure.prototype._key_event_extra = function(event, name) {\n",
       "    // Handle any extra behaviour associated with a key event\n",
       "}\n",
       "\n",
       "mpl.figure.prototype.key_event = function(event, name) {\n",
       "\n",
       "    // Prevent repeat events\n",
       "    if (name == 'key_press')\n",
       "    {\n",
       "        if (event.which === this._key)\n",
       "            return;\n",
       "        else\n",
       "            this._key = event.which;\n",
       "    }\n",
       "    if (name == 'key_release')\n",
       "        this._key = null;\n",
       "\n",
       "    var value = '';\n",
       "    if (event.ctrlKey && event.which != 17)\n",
       "        value += \"ctrl+\";\n",
       "    if (event.altKey && event.which != 18)\n",
       "        value += \"alt+\";\n",
       "    if (event.shiftKey && event.which != 16)\n",
       "        value += \"shift+\";\n",
       "\n",
       "    value += 'k';\n",
       "    value += event.which.toString();\n",
       "\n",
       "    this._key_event_extra(event, name);\n",
       "\n",
       "    this.send_message(name, {key: value,\n",
       "                             guiEvent: simpleKeys(event)});\n",
       "    return false;\n",
       "}\n",
       "\n",
       "mpl.figure.prototype.toolbar_button_onclick = function(name) {\n",
       "    if (name == 'download') {\n",
       "        this.handle_save(this, null);\n",
       "    } else {\n",
       "        this.send_message(\"toolbar_button\", {name: name});\n",
       "    }\n",
       "};\n",
       "\n",
       "mpl.figure.prototype.toolbar_button_onmouseover = function(tooltip) {\n",
       "    this.message.textContent = tooltip;\n",
       "};\n",
       "mpl.toolbar_items = [[\"Home\", \"Reset original view\", \"fa fa-home icon-home\", \"home\"], [\"Back\", \"Back to previous view\", \"fa fa-arrow-left icon-arrow-left\", \"back\"], [\"Forward\", \"Forward to next view\", \"fa fa-arrow-right icon-arrow-right\", \"forward\"], [\"\", \"\", \"\", \"\"], [\"Pan\", \"Pan axes with left mouse, zoom with right\", \"fa fa-arrows icon-move\", \"pan\"], [\"Zoom\", \"Zoom to rectangle\", \"fa fa-square-o icon-check-empty\", \"zoom\"], [\"\", \"\", \"\", \"\"], [\"Download\", \"Download plot\", \"fa fa-floppy-o icon-save\", \"download\"]];\n",
       "\n",
       "mpl.extensions = [\"eps\", \"jpeg\", \"pdf\", \"png\", \"ps\", \"raw\", \"svg\", \"tif\"];\n",
       "\n",
       "mpl.default_extension = \"png\";var comm_websocket_adapter = function(comm) {\n",
       "    // Create a \"websocket\"-like object which calls the given IPython comm\n",
       "    // object with the appropriate methods. Currently this is a non binary\n",
       "    // socket, so there is still some room for performance tuning.\n",
       "    var ws = {};\n",
       "\n",
       "    ws.close = function() {\n",
       "        comm.close()\n",
       "    };\n",
       "    ws.send = function(m) {\n",
       "        //console.log('sending', m);\n",
       "        comm.send(m);\n",
       "    };\n",
       "    // Register the callback with on_msg.\n",
       "    comm.on_msg(function(msg) {\n",
       "        //console.log('receiving', msg['content']['data'], msg);\n",
       "        // Pass the mpl event to the overridden (by mpl) onmessage function.\n",
       "        ws.onmessage(msg['content']['data'])\n",
       "    });\n",
       "    return ws;\n",
       "}\n",
       "\n",
       "mpl.mpl_figure_comm = function(comm, msg) {\n",
       "    // This is the function which gets called when the mpl process\n",
       "    // starts-up an IPython Comm through the \"matplotlib\" channel.\n",
       "\n",
       "    var id = msg.content.data.id;\n",
       "    // Get hold of the div created by the display call when the Comm\n",
       "    // socket was opened in Python.\n",
       "    var element = $(\"#\" + id);\n",
       "    var ws_proxy = comm_websocket_adapter(comm)\n",
       "\n",
       "    function ondownload(figure, format) {\n",
       "        window.open(figure.imageObj.src);\n",
       "    }\n",
       "\n",
       "    var fig = new mpl.figure(id, ws_proxy,\n",
       "                           ondownload,\n",
       "                           element.get(0));\n",
       "\n",
       "    // Call onopen now - mpl needs it, as it is assuming we've passed it a real\n",
       "    // web socket which is closed, not our websocket->open comm proxy.\n",
       "    ws_proxy.onopen();\n",
       "\n",
       "    fig.parent_element = element.get(0);\n",
       "    fig.cell_info = mpl.find_output_cell(\"<div id='\" + id + \"'></div>\");\n",
       "    if (!fig.cell_info) {\n",
       "        console.error(\"Failed to find cell for figure\", id, fig);\n",
       "        return;\n",
       "    }\n",
       "\n",
       "    var output_index = fig.cell_info[2]\n",
       "    var cell = fig.cell_info[0];\n",
       "\n",
       "};\n",
       "\n",
       "mpl.figure.prototype.handle_close = function(fig, msg) {\n",
       "    var width = fig.canvas.width/mpl.ratio\n",
       "    fig.root.unbind('remove')\n",
       "\n",
       "    // Update the output cell to use the data from the current canvas.\n",
       "    fig.push_to_output();\n",
       "    var dataURL = fig.canvas.toDataURL();\n",
       "    // Re-enable the keyboard manager in IPython - without this line, in FF,\n",
       "    // the notebook keyboard shortcuts fail.\n",
       "    IPython.keyboard_manager.enable()\n",
       "    $(fig.parent_element).html('<img src=\"' + dataURL + '\" width=\"' + width + '\">');\n",
       "    fig.close_ws(fig, msg);\n",
       "}\n",
       "\n",
       "mpl.figure.prototype.close_ws = function(fig, msg){\n",
       "    fig.send_message('closing', msg);\n",
       "    // fig.ws.close()\n",
       "}\n",
       "\n",
       "mpl.figure.prototype.push_to_output = function(remove_interactive) {\n",
       "    // Turn the data on the canvas into data in the output cell.\n",
       "    var width = this.canvas.width/mpl.ratio\n",
       "    var dataURL = this.canvas.toDataURL();\n",
       "    this.cell_info[1]['text/html'] = '<img src=\"' + dataURL + '\" width=\"' + width + '\">';\n",
       "}\n",
       "\n",
       "mpl.figure.prototype.updated_canvas_event = function() {\n",
       "    // Tell IPython that the notebook contents must change.\n",
       "    IPython.notebook.set_dirty(true);\n",
       "    this.send_message(\"ack\", {});\n",
       "    var fig = this;\n",
       "    // Wait a second, then push the new image to the DOM so\n",
       "    // that it is saved nicely (might be nice to debounce this).\n",
       "    setTimeout(function () { fig.push_to_output() }, 1000);\n",
       "}\n",
       "\n",
       "mpl.figure.prototype._init_toolbar = function() {\n",
       "    var fig = this;\n",
       "\n",
       "    var nav_element = $('<div/>');\n",
       "    nav_element.attr('style', 'width: 100%');\n",
       "    this.root.append(nav_element);\n",
       "\n",
       "    // Define a callback function for later on.\n",
       "    function toolbar_event(event) {\n",
       "        return fig.toolbar_button_onclick(event['data']);\n",
       "    }\n",
       "    function toolbar_mouse_event(event) {\n",
       "        return fig.toolbar_button_onmouseover(event['data']);\n",
       "    }\n",
       "\n",
       "    for(var toolbar_ind in mpl.toolbar_items){\n",
       "        var name = mpl.toolbar_items[toolbar_ind][0];\n",
       "        var tooltip = mpl.toolbar_items[toolbar_ind][1];\n",
       "        var image = mpl.toolbar_items[toolbar_ind][2];\n",
       "        var method_name = mpl.toolbar_items[toolbar_ind][3];\n",
       "\n",
       "        if (!name) { continue; };\n",
       "\n",
       "        var button = $('<button class=\"btn btn-default\" href=\"#\" title=\"' + name + '\"><i class=\"fa ' + image + ' fa-lg\"></i></button>');\n",
       "        button.click(method_name, toolbar_event);\n",
       "        button.mouseover(tooltip, toolbar_mouse_event);\n",
       "        nav_element.append(button);\n",
       "    }\n",
       "\n",
       "    // Add the status bar.\n",
       "    var status_bar = $('<span class=\"mpl-message\" style=\"text-align:right; float: right;\"/>');\n",
       "    nav_element.append(status_bar);\n",
       "    this.message = status_bar[0];\n",
       "\n",
       "    // Add the close button to the window.\n",
       "    var buttongrp = $('<div class=\"btn-group inline pull-right\"></div>');\n",
       "    var button = $('<button class=\"btn btn-mini btn-primary\" href=\"#\" title=\"Stop Interaction\"><i class=\"fa fa-power-off icon-remove icon-large\"></i></button>');\n",
       "    button.click(function (evt) { fig.handle_close(fig, {}); } );\n",
       "    button.mouseover('Stop Interaction', toolbar_mouse_event);\n",
       "    buttongrp.append(button);\n",
       "    var titlebar = this.root.find($('.ui-dialog-titlebar'));\n",
       "    titlebar.prepend(buttongrp);\n",
       "}\n",
       "\n",
       "mpl.figure.prototype._root_extra_style = function(el){\n",
       "    var fig = this\n",
       "    el.on(\"remove\", function(){\n",
       "\tfig.close_ws(fig, {});\n",
       "    });\n",
       "}\n",
       "\n",
       "mpl.figure.prototype._canvas_extra_style = function(el){\n",
       "    // this is important to make the div 'focusable\n",
       "    el.attr('tabindex', 0)\n",
       "    // reach out to IPython and tell the keyboard manager to turn it's self\n",
       "    // off when our div gets focus\n",
       "\n",
       "    // location in version 3\n",
       "    if (IPython.notebook.keyboard_manager) {\n",
       "        IPython.notebook.keyboard_manager.register_events(el);\n",
       "    }\n",
       "    else {\n",
       "        // location in version 2\n",
       "        IPython.keyboard_manager.register_events(el);\n",
       "    }\n",
       "\n",
       "}\n",
       "\n",
       "mpl.figure.prototype._key_event_extra = function(event, name) {\n",
       "    var manager = IPython.notebook.keyboard_manager;\n",
       "    if (!manager)\n",
       "        manager = IPython.keyboard_manager;\n",
       "\n",
       "    // Check for shift+enter\n",
       "    if (event.shiftKey && event.which == 13) {\n",
       "        this.canvas_div.blur();\n",
       "        // select the cell after this one\n",
       "        var index = IPython.notebook.find_cell_index(this.cell_info[0]);\n",
       "        IPython.notebook.select(index + 1);\n",
       "    }\n",
       "}\n",
       "\n",
       "mpl.figure.prototype.handle_save = function(fig, msg) {\n",
       "    fig.ondownload(fig, null);\n",
       "}\n",
       "\n",
       "\n",
       "mpl.find_output_cell = function(html_output) {\n",
       "    // Return the cell and output element which can be found *uniquely* in the notebook.\n",
       "    // Note - this is a bit hacky, but it is done because the \"notebook_saving.Notebook\"\n",
       "    // IPython event is triggered only after the cells have been serialised, which for\n",
       "    // our purposes (turning an active figure into a static one), is too late.\n",
       "    var cells = IPython.notebook.get_cells();\n",
       "    var ncells = cells.length;\n",
       "    for (var i=0; i<ncells; i++) {\n",
       "        var cell = cells[i];\n",
       "        if (cell.cell_type === 'code'){\n",
       "            for (var j=0; j<cell.output_area.outputs.length; j++) {\n",
       "                var data = cell.output_area.outputs[j];\n",
       "                if (data.data) {\n",
       "                    // IPython >= 3 moved mimebundle to data attribute of output\n",
       "                    data = data.data;\n",
       "                }\n",
       "                if (data['text/html'] == html_output) {\n",
       "                    return [cell, data, j];\n",
       "                }\n",
       "            }\n",
       "        }\n",
       "    }\n",
       "}\n",
       "\n",
       "// Register the function which deals with the matplotlib target/channel.\n",
       "// The kernel may be null if the page has been refreshed.\n",
       "if (IPython.notebook.kernel != null) {\n",
       "    IPython.notebook.kernel.comm_manager.register_target('matplotlib', mpl.mpl_figure_comm);\n",
       "}\n"
      ],
      "text/plain": [
       "<IPython.core.display.Javascript object>"
      ]
     },
     "metadata": {},
     "output_type": "display_data"
    },
    {
     "data": {
      "text/html": [
       "<img src=\"data:image/png;base64,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
