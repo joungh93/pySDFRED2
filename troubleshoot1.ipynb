{
 "cells": [
  {
   "cell_type": "markdown",
   "metadata": {},
   "source": [
    "## Troubleshooting for SDFRED2"
   ]
  },
  {
   "cell_type": "markdown",
   "metadata": {},
   "source": [
    "### Packages & Directories"
   ]
  },
  {
   "cell_type": "code",
   "execution_count": 1,
   "metadata": {},
   "outputs": [],
   "source": [
    "import numpy as np\n",
    "import glob, os\n",
    "import pandas as pd\n",
    "from pathlib import Path\n",
    "from matplotlib import pyplot as plt"
   ]
  },
  {
   "cell_type": "code",
   "execution_count": 2,
   "metadata": {},
   "outputs": [],
   "source": [
    "current_dir = os.getcwd()\n",
    "dir_Obj = str(Path(\"./Object\").absolute())+\"/\"\n",
    "path_list_obj = sorted(glob.glob(dir_Obj+\"*/*\"))"
   ]
  },
  {
   "cell_type": "code",
   "execution_count": 3,
   "metadata": {},
   "outputs": [
    {
     "data": {
      "text/plain": [
       "'/data/jlee/NGC6946'"
      ]
     },
     "execution_count": 3,
     "metadata": {},
     "output_type": "execute_result"
    }
   ],
   "source": [
    "current_dir"
   ]
  },
  {
   "cell_type": "code",
   "execution_count": 4,
   "metadata": {},
   "outputs": [
    {
     "data": {
      "text/plain": [
       "['/data/jlee/NGC6946/Object/N-A-L656/2013-12-02',\n",
       " '/data/jlee/NGC6946/Object/W-C-IC/2008-08-30',\n",
       " '/data/jlee/NGC6946/Object/W-C-IC/2013-12-04',\n",
       " '/data/jlee/NGC6946/Object/W-C-IC/2014-04-29',\n",
       " '/data/jlee/NGC6946/Object/W-C-RC/2009-08-21',\n",
       " '/data/jlee/NGC6946/Object/W-C-RC/2013-12-03',\n",
       " '/data/jlee/NGC6946/Object/W-J-B/2008-09-03',\n",
       " '/data/jlee/NGC6946/Object/W-J-B/2009-08-21',\n",
       " '/data/jlee/NGC6946/Object/W-J-B/2013-12-04',\n",
       " '/data/jlee/NGC6946/Object/W-J-B/2014-04-29']"
      ]
     },
     "execution_count": 4,
     "metadata": {},
     "output_type": "execute_result"
    }
   ],
   "source": [
    "path_list_obj"
   ]
  },
  {
   "cell_type": "code",
   "execution_count": 5,
   "metadata": {},
   "outputs": [
    {
     "data": {
      "text/plain": [
       "['/data/jlee/NGC6946/Object/W-C-RC/2013-12-03/']"
      ]
     },
     "execution_count": 5,
     "metadata": {},
     "output_type": "execute_result"
    }
   ],
   "source": [
    "dir_err = [\"/data/jlee/NGC6946/Object/W-C-RC/2013-12-03/\"]\n",
    "dir_err"
   ]
  },
  {
   "cell_type": "markdown",
   "metadata": {},
   "source": [
    "### Reading the `out.mos.error` file"
   ]
  },
  {
   "cell_type": "code",
   "execution_count": 6,
   "metadata": {},
   "outputs": [],
   "source": [
    "for i, di in enumerate(dir_err):\n",
    "    outfile = glob.glob(di+\"out.mos.error\")\n",
    "    assert outfile != []\n",
    "    \n",
    "    with open(outfile[0], \"r\") as f:\n",
    "        ll = f.readlines()\n",
    "    prob_frames = pd.Series(ll).str.split(\" \").str[1].values\n",
    "    \n",
    "    os.chdir(di)\n",
    "    os.system(\"rm -rfv \"+\" \".join(prob_frames))\n",
    "    os.chdir(current_dir)"
   ]
  },
  {
   "cell_type": "markdown",
   "metadata": {},
   "source": [
    "* Then, run the `red3.sh` script again in the directory with the trouble.\n",
    "```\n",
    "cd /path_with_problem/\n",
    "source red3.sh\n",
    "```"
   ]
  },
  {
   "cell_type": "code",
   "execution_count": null,
   "metadata": {},
   "outputs": [],
   "source": []
  }
 ],
 "metadata": {
  "kernelspec": {
   "display_name": "Python 3",
   "language": "python",
   "name": "python3"
  },
  "language_info": {
   "codemirror_mode": {
    "name": "ipython",
    "version": 3
   },
   "file_extension": ".py",
   "mimetype": "text/x-python",
   "name": "python",
   "nbconvert_exporter": "python",
   "pygments_lexer": "ipython3",
   "version": "3.8.3"
  }
 },
 "nbformat": 4,
 "nbformat_minor": 4
}
